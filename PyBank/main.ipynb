{
 "cells": [
  {
   "cell_type": "code",
   "execution_count": 71,
   "id": "6bd6ee02",
   "metadata": {},
   "outputs": [
    {
     "name": "stdout",
     "output_type": "stream",
     "text": [
      "Financial Analysis\n",
      "-------------------------------------\n",
      "Total Months:86\n",
      "Total: $38382578\n",
      "Average Change: $-663295.523255814\n",
      "Greatest Increase in Profits: Feb-2012 (1926159.0)\n",
      "Greatest Decrease in Profits: Sep-2013 ($-2196167.0)\n"
     ]
    }
   ],
   "source": [
    "from pathlib import Path\n",
    "import csv\n",
    "\n",
    "# Initialize metric variables\n",
    "total_months = 0\n",
    "total_rev = 0\n",
    "previous_rev = 0\n",
    "rev_change_list = []\n",
    "greatest_increase = [\"\", 0]\n",
    "greatest_decrease = [\"\", 0]\n",
    "\n",
    "\n",
    "csvpath = Path('./Resources/budget_data.csv')\n",
    "\n",
    "with open(csvpath, 'r') as budget_rev:\n",
    "    reader = csv.DictReader(budget_rev)\n",
    "    \n",
    "# Your task is to create a Python script that analyzes the records to calculate each of the following:\n",
    "\n",
    "# The total number of months included in the dataset\n",
    "    for row in reader:\n",
    "        \n",
    "        total_months = total_months + 1\n",
    "        total_rev = total_rev + int(row[\"Profit/Losses\"])\n",
    "        \n",
    "# The net total amount of Profit/Losses over the entire period      \n",
    "        rev_change = float(row[\"Profit/Losses\"]) - previous_rev\n",
    "        previous_rev = float(row[\"Profit/Losses\"])\n",
    "        rev_change_list = rev_change_list + [rev_change]\n",
    "     \n",
    "        \n",
    "#The greatest increase in profits (date and amount)        \n",
    "        if rev_change > greatest_increase[1]:\n",
    "            greatest_increase[0] = row[\"Date\"]\n",
    "            greatest_increase[1] = rev_change\n",
    "            \n",
    "# The greatest decrease in losses (date and amount)            \n",
    "        if rev_change < greatest_decrease[1]:\n",
    "            greatest_decrease[0] = row[\"Date\"]\n",
    "            greatest_decrease[1] = rev_change\n",
    "            \n",
    "        \n",
    "# The average of the changes in Profit/Losses over the entire period\n",
    "rev_avg = sum (rev_change_list) / len(rev_change_list) - previous_rev\n",
    "\n",
    "#Print output\n",
    "print(\"Financial Analysis\")\n",
    "print(\"-------------------------------------\")\n",
    "print(f\"Total Months:{total_months}\")\n",
    "print(f\"Total: ${total_rev}\")\n",
    "print(f\"Average Change: ${rev_avg}\")\n",
    "print(f\"Greatest Increase in Profits: {greatest_increase[0]} ({greatest_increase[1]})\")\n",
    "print(f\"Greatest Decrease in Profits: {greatest_decrease[0]} (${greatest_decrease[1]})\")\n",
    "\n",
    "#Export text file with the results\n",
    "with open(\"budget_rev.txt\", \"w\") as text:\n",
    "    text.write(\"Financial Analysis\\n\")\n",
    "    text.write(\"-------------------------------------\\n\")\n",
    "    text.write(f\"Total Months:{total_months}\\n\")\n",
    "    text.write(f\"Total: ${total_rev}\\n\")\n",
    "    text.write(f\"Average Change: ${rev_avg}\\n\")\n",
    "    text.write(f\"Greatest Increase in Profits: {greatest_increase[0]} ({greatest_increase[1]})\\n\")\n",
    "    text.write(f\"Greatest Decrease in Profits: {greatest_decrease[0]} (${greatest_decrease[1]})\\n\")\n"
   ]
  },
  {
   "cell_type": "code",
   "execution_count": null,
   "id": "37d27e55",
   "metadata": {},
   "outputs": [],
   "source": [
    "\n",
    "\n"
   ]
  },
  {
   "cell_type": "code",
   "execution_count": 25,
   "id": "64c40939",
   "metadata": {},
   "outputs": [],
   "source": []
  },
  {
   "cell_type": "code",
   "execution_count": null,
   "id": "04395b9a",
   "metadata": {},
   "outputs": [],
   "source": [
    " \n"
   ]
  }
 ],
 "metadata": {
  "kernelspec": {
   "display_name": "Python 3 (ipykernel)",
   "language": "python",
   "name": "python3"
  },
  "language_info": {
   "codemirror_mode": {
    "name": "ipython",
    "version": 3
   },
   "file_extension": ".py",
   "mimetype": "text/x-python",
   "name": "python",
   "nbconvert_exporter": "python",
   "pygments_lexer": "ipython3",
   "version": "3.9.12"
  }
 },
 "nbformat": 4,
 "nbformat_minor": 5
}
